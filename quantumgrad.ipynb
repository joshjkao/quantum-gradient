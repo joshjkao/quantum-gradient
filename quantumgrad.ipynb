{
 "cells": [
  {
   "cell_type": "markdown",
   "metadata": {},
   "source": [
    "# Implementation of the Quantum Gradient Algorithm\n",
    "\n",
    "Given a d-dimensional function f:\n",
    "\\begin{equation}\n",
    "f(\\vec{x}) = y\n",
    "\\end{equation}\n",
    "The Quantum Gradient Algorithm aims to estimate the gradient of this function at the origin. The problem statement of this problem includes oracular access to an operation $U_f$, defined as such:\n",
    "\\begin{equation}\n",
    "U_f: \\ket{\\vec{x_1}}\\ket{\\vec{x_2}}\\ket{0} \\rightarrow \\ket{\\vec{x_1}}\\ket{\\vec{x_2}}\\ket{\\vec{f(x_1, x_2)}}\n",
    "\\end{equation}\n",
    "Put in words, this function takes as input d registers of q qubits plus an output register, and applies the modular addition of the function evaluation of the input registers onto the output register."
   ]
  },
  {
   "cell_type": "markdown",
   "metadata": {},
   "source": [
    "## Defining the Oracle Matrix\n",
    "\n",
    "To test the algorithm with a simple function, define f as:\n",
    "\\begin{equation}\n",
    "f(x_1, x_2) = x_1 + x_2\n",
    "\\end{equation}\n",
    "This function is linear and two-dimensional, and two registers of 4 qubits will be used as input."
   ]
  },
  {
   "cell_type": "code",
   "execution_count": 7,
   "metadata": {},
   "outputs": [],
   "source": [
    "import numpy as np\n",
    "from quantumreg import QuantumRegister, QuantumGate\n",
    "from util import binaryArray2Int, int2BinaryArray\n",
    "import matplotlib.pyplot as plt\n",
    "\n",
    "# d input registers of q qubits each\n",
    "d = 2 \n",
    "q = 3\n",
    "\n",
    "# The function f is defined as such\n",
    "def f(x1, x2):\n",
    "    return x1 - x2\n",
    "\n",
    "# Another function is defined to perform the bitwise action of applying the oracle to a set of input and output registers.\n",
    "def applyMatrix(vec):\n",
    "    x1 = binaryArray2Int(vec[0:0+q])\n",
    "    x2 = binaryArray2Int(vec[q:2*q])\n",
    "    y = binaryArray2Int(vec[2*q:3*q])\n",
    "    new_y = (y + f(x1, x2)) % (2**q)\n",
    "    output_binary = int2BinaryArray(new_y, q)\n",
    "    \n",
    "    for i, b in enumerate(output_binary):\n",
    "        vec[2*q+i] = b\n",
    "        \n",
    "    return vec"
   ]
  },
  {
   "cell_type": "markdown",
   "metadata": {},
   "source": [
    "In order to apply $U_f$ in this implementation, its matrix representation is needed. Just as with any operator on a quantum system, its matrix elements can be defined as follows:\n",
    "\\begin{equation}\n",
    "(U_f)_{ij} = \\bra{i}U_f\\ket{j}\n",
    "\\end{equation}\n",
    "The following routine passes the bit representation of every basis state and applies the behavior of the oracle to it. The resulting bit representation is then converted to the state vector representation. The inner product of this state vector with every other state vector is then found in order to define the row of matrix elements."
   ]
  },
  {
   "cell_type": "code",
   "execution_count": 8,
   "metadata": {},
   "outputs": [],
   "source": [
    "Uf_mat = [[0 for j in range(2**(3*q))] for k in range(2**(3*q))]\n",
    "\n",
    "applymatrix_cache = {}\n",
    "\n",
    "def int2EigenState(n: int):\n",
    "    ret = np.array([[0] for i in range(2**(3*q))])\n",
    "    ret[n] = 1\n",
    "    return ret\n",
    "\n",
    "for j in range(2**(3*q)):\n",
    "    for k in range(2**(3*q)):\n",
    "        bra = int2EigenState(j).transpose()\n",
    "        ket = None\n",
    "        if k not in applymatrix_cache:    \n",
    "            rightbits = int2BinaryArray(k, 3*q)\n",
    "            Ufrightbits = applyMatrix(rightbits)\n",
    "            ket = int2EigenState(binaryArray2Int(Ufrightbits))\n",
    "            applymatrix_cache[k] = ket\n",
    "        else:\n",
    "            ket = applymatrix_cache[k]\n",
    "        \n",
    "        Ufjk = np.dot(bra, ket)[0][0]\n",
    "        Uf_mat[j][k] = Ufjk"
   ]
  },
  {
   "cell_type": "markdown",
   "metadata": {},
   "source": [
    "## Defining Other Necessary Operations\n",
    "\n",
    "The rest of this algorithm involves the use of hadamard gates and the quantum fourier transform. Both of these operations have known matrix elements that can be \"hard-coded.\" These operations can be made to act only on certain bits by taking the tensor product of their matrix representations with the identity matrix."
   ]
  },
  {
   "cell_type": "code",
   "execution_count": 9,
   "metadata": {},
   "outputs": [],
   "source": [
    "# single qubit hadamard gate\n",
    "hadamard = QuantumGate(np.divide(np.array([[1,1],[1,-1]]), np.sqrt(2)))\n",
    "\n",
    "# single qubit identity\n",
    "identity = QuantumGate(np.array([[1,0],[0,1]]))\n",
    "\n",
    "# q-qubit quantum fourier transform\n",
    "qft = QuantumGate([[0 for j in range(2**q)] for k in range(2**q)])\n",
    "def w_n(n: int):\n",
    "    return np.exp(2*np.pi*1.j / (2**n))\n",
    "for j in range(2**q):\n",
    "    for k in range(2**q):\n",
    "        qft[j][k] = 1/np.sqrt(2**q) * w_n(q)**(j*k)\n",
    "\n",
    "# q-qubit inverse fourier transform\n",
    "qft_dag = QuantumGate(np.array(qft.mat).conj().transpose())"
   ]
  },
  {
   "cell_type": "code",
   "execution_count": 10,
   "metadata": {},
   "outputs": [],
   "source": [
    "# step one: apply hadamard to input registers\n",
    "one = (hadamard**(d*q)) * (identity**q)\n",
    "\n",
    "# step two: apply qft to output registers\n",
    "two = (identity**(d*q)) * (qft)\n",
    "\n",
    "# step three: apply the oracle\n",
    "three = QuantumGate(Uf_mat)\n",
    "\n",
    "# step four: apply inverse qft to input registers\n",
    "four = ((qft_dag**2) * (identity**q))"
   ]
  },
  {
   "cell_type": "code",
   "execution_count": 11,
   "metadata": {},
   "outputs": [],
   "source": [
    "input = QuantumRegister(bits=[0]*(d*q) + [1]*q)\n",
    "\n",
    "input = one*input\n",
    "input = two*input\n",
    "input = three*input\n",
    "input = four*input"
   ]
  },
  {
   "cell_type": "code",
   "execution_count": 19,
   "metadata": {},
   "outputs": [
    {
     "data": {
      "text/plain": [
       "{'001111101': 115,\n",
       " '001111001': 134,\n",
       " '001111110': 130,\n",
       " '001111100': 114,\n",
       " '001111111': 119,\n",
       " '001111000': 121,\n",
       " '001111011': 134,\n",
       " '001111010': 133}"
      ]
     },
     "execution_count": 19,
     "metadata": {},
     "output_type": "execute_result"
    }
   ],
   "source": [
    "map = {}\n",
    "form = \"0\" + str((3*q)) + \"b\"\n",
    "\n",
    "for i in range(1000):\n",
    "    result = format(input.measure(), form)\n",
    "    if result not in map:\n",
    "        map[result] = 1\n",
    "    else:\n",
    "        map[result] += 1\n",
    "        \n",
    "map"
   ]
  }
 ],
 "metadata": {
  "kernelspec": {
   "display_name": "Python 3",
   "language": "python",
   "name": "python3"
  },
  "language_info": {
   "codemirror_mode": {
    "name": "ipython",
    "version": 3
   },
   "file_extension": ".py",
   "mimetype": "text/x-python",
   "name": "python",
   "nbconvert_exporter": "python",
   "pygments_lexer": "ipython3",
   "version": "3.11.5"
  }
 },
 "nbformat": 4,
 "nbformat_minor": 2
}
