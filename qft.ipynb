{
 "cells": [
  {
   "cell_type": "markdown",
   "metadata": {},
   "source": [
    "# Implementation of the Quantum Gradient Algorithm\n",
    "\n",
    "Given a d-dimensional function f:\n",
    "\\begin{equation}\n",
    "f(\\vec{x}) = y\n",
    "\\end{equation}\n",
    "The Quantum Gradient Algorithm aims to estimate the gradient of this function at the origin. The problem statement of this problem includes oracular access to an operation $U_f$, defined as such:\n",
    "\\begin{equation}\n",
    "U_f: \\ket{\\vec{x_1}}\\ket{\\vec{x_2}}\\ket{0} \\rightarrow \\ket{\\vec{x_1}}\\ket{\\vec{x_2}}\\ket{\\vec{f(x_1, x_2)}}\n",
    "\\end{equation}\n",
    "Put in words, this function takes as input d registers of q qubits plus an output register, and applies the modular addition of the function evaluation of the input registers onto the output register."
   ]
  },
  {
   "cell_type": "markdown",
   "metadata": {},
   "source": [
    "## Defining the Oracle Matrix\n",
    "\n",
    "To test the algorithm with a simple function, define f as:\n",
    "\\begin{equation}\n",
    "f(x_1, x_2) = x_1 + x_2\n",
    "\\end{equation}\n",
    "This function is linear and two-dimensional, and two registers of 4 qubits will be used as input."
   ]
  },
  {
   "cell_type": "code",
   "execution_count": 102,
   "metadata": {},
   "outputs": [],
   "source": [
    "import numpy as np\n",
    "from quantumreg import QuantumRegister, QuantumGate\n",
    "from util import binaryArray2Int, int2BinaryArray\n",
    "import matplotlib.pyplot as plt\n",
    "\n",
    "q = 2\n",
    "\n",
    "# The function f is defined as such\n",
    "def f(x1, x2):\n",
    "    return x1 + x2\n",
    "\n",
    "# Another function is defined to perform the bitwise action of applying the oracle to a set of input and output registers.\n",
    "def applyMatrix(vec):\n",
    "    x1 = binaryArray2Int(vec[0:0+q])\n",
    "    x2 = binaryArray2Int(vec[q:2*q])\n",
    "    y = binaryArray2Int(vec[2*q:3*q])\n",
    "    new_y = (y + f(x1, x2)) % (2**q)\n",
    "    output_binary = int2BinaryArray(new_y, q)\n",
    "    \n",
    "    for i, b in enumerate(output_binary):\n",
    "        vec[2*q+i] = b\n",
    "        \n",
    "    return vec"
   ]
  },
  {
   "cell_type": "markdown",
   "metadata": {},
   "source": [
    "In order to apply $U_f$ in this implementation, its matrix representation is needed. Just as with any operator on a quantum system, its matrix elements can be defined as follows:\n",
    "\\begin{equation}\n",
    "(U_f)_{ij} = \\bra{i}U_f\\ket{j}\n",
    "\\end{equation}\n",
    "The following routine passes the bit representation of every basis state and applies the behavior of the oracle to it. The resulting bit representation is then converted to the state vector representation. The inner product of this state vector with every other state vector is then found to define the row of matrix elements."
   ]
  },
  {
   "cell_type": "code",
   "execution_count": 103,
   "metadata": {},
   "outputs": [],
   "source": [
    "Uf_mat = [[0 for j in range(2**(3*q))] for k in range(2**(3*q))]\n",
    "\n",
    "for j in range(2**(3*q)):\n",
    "    for k in range(2**(3*q)):\n",
    "        leftbits = int2BinaryArray(j, 3*q)\n",
    "        rightbits = int2BinaryArray(k, 3*q)\n",
    "        Ufrightbits = applyMatrix(rightbits)\n",
    "        bra = QuantumRegister(bits=leftbits).bits.transpose()\n",
    "        ket = QuantumRegister(bits=Ufrightbits).bits\n",
    "        Ufjk = np.dot(bra, ket)[0][0]\n",
    "        Uf_mat[j][k] = Ufjk"
   ]
  },
  {
   "cell_type": "markdown",
   "metadata": {},
   "source": [
    "## Defining Other Necessary Operations\n",
    "\n",
    "The rest of this algorithm involves the use of hadamard gates and the quantum fourier transform. Both of these operations have known matrix elements that can be \"hard-coded.\" These operations can be made to act only on certain bits by taking the tensor product of their matrix representations with the identity matrix."
   ]
  },
  {
   "cell_type": "code",
   "execution_count": 104,
   "metadata": {},
   "outputs": [],
   "source": [
    "# d input registers of q qubits each\n",
    "d = 2 \n",
    "q = 2 \n",
    "\n",
    "hadamard = QuantumGate(np.divide(np.array([[1,1],[1,-1]]), np.sqrt(2)))\n",
    "\n",
    "identity = QuantumGate(np.array([[1,0],[0,1]]))\n",
    "\n",
    "qft = QuantumGate([[0 for j in range(2**q)] for k in range(2**q)])\n",
    "def w_n(n: int):\n",
    "    return np.exp(2*np.pi*1.j / (2**n))\n",
    "for j in range(2**q):\n",
    "    for k in range(2**q):\n",
    "        qft[j][k] = 1/np.sqrt(2**q) * w_n(j*k)\n",
    "        \n",
    "qft_dag = QuantumGate(np.array(qft.mat).conj().transpose())"
   ]
  },
  {
   "cell_type": "code",
   "execution_count": 105,
   "metadata": {},
   "outputs": [],
   "source": [
    "# step one: apply hadamard to input registers\n",
    "one = (hadamard**(d*q)) * (identity**q)\n",
    "\n",
    "# step two: apply qft to output registers\n",
    "two = (identity**(d*q)) * (qft)\n",
    "\n",
    "# step three: apply the oracle\n",
    "Uf = QuantumGate(Uf_mat)\n",
    "\n",
    "# step four: apply inverse qft to input registers\n",
    "four = ((qft_dag**2) * (identity**q))"
   ]
  },
  {
   "cell_type": "code",
   "execution_count": 106,
   "metadata": {},
   "outputs": [
    {
     "name": "stdout",
     "output_type": "stream",
     "text": [
      "[[ 0.46277703+1.02174432e-01j]\n",
      " [ 0.46277703+1.02174432e-01j]\n",
      " [ 0.46277703+1.02174432e-01j]\n",
      " [ 0.46277703+1.02174432e-01j]\n",
      " [ 0.12541386-1.79440391e-01j]\n",
      " [ 0.12541386-1.79440391e-01j]\n",
      " [ 0.12541386-1.79440391e-01j]\n",
      " [ 0.12541386-1.79440391e-01j]\n",
      " [ 0.3755414 -9.67451184e-02j]\n",
      " [ 0.3755414 -9.67451184e-02j]\n",
      " [ 0.3755414 -9.67451184e-02j]\n",
      " [ 0.3755414 -9.67451184e-02j]\n",
      " [ 0.44920438+1.18268021e-16j]\n",
      " [ 0.44920438+1.15972036e-16j]\n",
      " [ 0.44920438+1.18295922e-16j]\n",
      " [ 0.44920438+1.15124256e-16j]\n",
      " [ 0.12541386-1.79440391e-01j]\n",
      " [ 0.12541386-1.79440391e-01j]\n",
      " [ 0.12541386-1.79440391e-01j]\n",
      " [ 0.12541386-1.79440391e-01j]\n",
      " [-0.09174353-4.73473326e-02j]\n",
      " [-0.09460899-1.15004164e-01j]\n",
      " [-0.01729112-1.41947815e-01j]\n",
      " [-0.01399928-3.66790567e-02j]\n",
      " [ 0.00130118-1.84793133e-01j]\n",
      " [ 0.03108341-1.98401266e-01j]\n",
      " [ 0.06158328-1.80708215e-01j]\n",
      " [ 0.00642575-1.45595793e-01j]\n",
      " [ 0.07170594-1.99980258e-01j]\n",
      " [ 0.08740608-1.98983988e-01j]\n",
      " [ 0.09658874-1.85586581e-01j]\n",
      " [ 0.06193471-1.82289018e-01j]\n",
      " [ 0.3755414 -9.67451184e-02j]\n",
      " [ 0.3755414 -9.67451184e-02j]\n",
      " [ 0.3755414 -9.67451184e-02j]\n",
      " [ 0.3755414 -9.67451184e-02j]\n",
      " [ 0.00130118-1.84793133e-01j]\n",
      " [ 0.03108341-1.98401266e-01j]\n",
      " [ 0.06158328-1.80708215e-01j]\n",
      " [ 0.00642575-1.45595793e-01j]\n",
      " [ 0.2355051 -2.17936850e-01j]\n",
      " [ 0.24997998-2.07297940e-01j]\n",
      " [ 0.25546327-1.98721385e-01j]\n",
      " [ 0.21203059-2.14513415e-01j]\n",
      " [ 0.32839113-1.68963975e-01j]\n",
      " [ 0.33293595-1.61860377e-01j]\n",
      " [ 0.33404446-1.58361199e-01j]\n",
      " [ 0.31588491-1.75951633e-01j]\n",
      " [ 0.44920438+1.22171149e-16j]\n",
      " [ 0.44920438+1.22694090e-16j]\n",
      " [ 0.44920438+1.32390551e-16j]\n",
      " [ 0.44920438+1.15124256e-16j]\n",
      " [ 0.07170594-1.99980258e-01j]\n",
      " [ 0.08740608-1.98983988e-01j]\n",
      " [ 0.09658874-1.85586581e-01j]\n",
      " [ 0.06193471-1.82289018e-01j]\n",
      " [ 0.32839113-1.68963975e-01j]\n",
      " [ 0.33293595-1.61860377e-01j]\n",
      " [ 0.33404446-1.58361199e-01j]\n",
      " [ 0.31588491-1.75951633e-01j]\n",
      " [ 0.41614086-9.18825218e-02j]\n",
      " [ 0.41725355-8.82166826e-02j]\n",
      " [ 0.41749718-8.71516922e-02j]\n",
      " [ 0.41216015-9.99267253e-02j]]\n"
     ]
    }
   ],
   "source": [
    "input = QuantumRegister(bits=[0,0,0,0,1,1])\n",
    "\n",
    "input = one*input\n",
    "input = two*input\n",
    "input = Uf*input\n",
    "input = four*input\n",
    "print(input)"
   ]
  },
  {
   "cell_type": "code",
   "execution_count": 111,
   "metadata": {},
   "outputs": [],
   "source": [
    "hist = [0 for i in range(2**(3*q))]\n",
    "xaxis = [i for i in range(2**(3*q))]\n",
    "\n",
    "for i in range(100):\n",
    "    result = input.measure()\n",
    "    hist[result] += 1"
   ]
  },
  {
   "cell_type": "code",
   "execution_count": 112,
   "metadata": {},
   "outputs": [
    {
     "data": {
      "text/plain": [
       "<matplotlib.collections.PathCollection at 0x14785ba50>"
      ]
     },
     "execution_count": 112,
     "metadata": {},
     "output_type": "execute_result"
    },
    {
     "data": {
      "image/png": "[encoded data removed]",
      "text/plain": [
       "<Figure size 640x480 with 1 Axes>"
      ]
     },
     "metadata": {},
     "output_type": "display_data"
    }
   ],
   "source": [
    "plt.scatter(xaxis, hist)"
   ]
  },
  {
   "cell_type": "code",
   "execution_count": 113,
   "metadata": {},
   "outputs": [
    {
     "data": {
      "text/plain": [
       "20"
      ]
     },
     "execution_count": 113,
     "metadata": {},
     "output_type": "execute_result"
    }
   ],
   "source": [
    "binaryArray2Int([0,1,0,1,0,0])"
   ]
  },
  {
   "cell_type": "code",
   "execution_count": null,
   "metadata": {},
   "outputs": [],
   "source": []
  }
 ],
 "metadata": {
  "kernelspec": {
   "display_name": "Python 3",
   "language": "python",
   "name": "python3"
  },
  "language_info": {
   "codemirror_mode": {
    "name": "ipython",
    "version": 3
   },
   "file_extension": ".py",
   "mimetype": "text/x-python",
   "name": "python",
   "nbconvert_exporter": "python",
   "pygments_lexer": "ipython3",
   "version": "3.11.5"
  }
 },
 "nbformat": 4,
 "nbformat_minor": 2
}
