{
 "cells": [
  {
   "cell_type": "code",
   "execution_count": 1,
   "metadata": {},
   "outputs": [],
   "source": [
    "import numpy as np\n",
    "from quantumreg import QuantumRegister, QuantumGate\n",
    "import matplotlib.pyplot as plt"
   ]
  },
  {
   "cell_type": "code",
   "execution_count": 10,
   "metadata": {},
   "outputs": [],
   "source": [
    "# d input registers of q qubits each\n",
    "d = 2 \n",
    "q = 2 \n",
    "\n",
    "hadamard = QuantumGate(np.divide(np.array([[1,1],[1,-1]]), np.sqrt(2)))\n",
    "\n",
    "identity = QuantumGate(np.array([[1,0],[0,1]]))\n",
    "\n",
    "qft = QuantumGate([[0 for j in range(2**q)] for k in range(2**q)])\n",
    "def w_n(n: int):\n",
    "    return np.exp(2*np.pi*1.j / (2**n))\n",
    "for j in range(2**q):\n",
    "    for k in range(2**q):\n",
    "        qft[j][k] = 1/np.sqrt(2**q) * w_n(j*k)"
   ]
  },
  {
   "cell_type": "code",
   "execution_count": 11,
   "metadata": {},
   "outputs": [],
   "source": [
    "# step one: apply hadamard to input registers\n",
    "one = (hadamard**(d*q)) * (identity**q)\n",
    "\n",
    "# step two: apply qft to output registers\n",
    "two = (identity**(d*q)) * (qft)"
   ]
  },
  {
   "cell_type": "code",
   "execution_count": 12,
   "metadata": {},
   "outputs": [
    {
     "name": "stdout",
     "output_type": "stream",
     "text": [
      "[[0.125     -3.06161700e-17j]\n",
      " [0.08838835+8.83883476e-02j]\n",
      " [0.12439809+1.22521425e-02j]\n",
      " [0.12499059+1.53394229e-03j]\n",
      " [0.125     -3.06161700e-17j]\n",
      " [0.08838835+8.83883476e-02j]\n",
      " [0.12439809+1.22521425e-02j]\n",
      " [0.12499059+1.53394229e-03j]\n",
      " [0.125     -3.06161700e-17j]\n",
      " [0.08838835+8.83883476e-02j]\n",
      " [0.12439809+1.22521425e-02j]\n",
      " [0.12499059+1.53394229e-03j]\n",
      " [0.125     -3.06161700e-17j]\n",
      " [0.08838835+8.83883476e-02j]\n",
      " [0.12439809+1.22521425e-02j]\n",
      " [0.12499059+1.53394229e-03j]\n",
      " [0.125     -3.06161700e-17j]\n",
      " [0.08838835+8.83883476e-02j]\n",
      " [0.12439809+1.22521425e-02j]\n",
      " [0.12499059+1.53394229e-03j]\n",
      " [0.125     -3.06161700e-17j]\n",
      " [0.08838835+8.83883476e-02j]\n",
      " [0.12439809+1.22521425e-02j]\n",
      " [0.12499059+1.53394229e-03j]\n",
      " [0.125     -3.06161700e-17j]\n",
      " [0.08838835+8.83883476e-02j]\n",
      " [0.12439809+1.22521425e-02j]\n",
      " [0.12499059+1.53394229e-03j]\n",
      " [0.125     -3.06161700e-17j]\n",
      " [0.08838835+8.83883476e-02j]\n",
      " [0.12439809+1.22521425e-02j]\n",
      " [0.12499059+1.53394229e-03j]\n",
      " [0.125     -3.06161700e-17j]\n",
      " [0.08838835+8.83883476e-02j]\n",
      " [0.12439809+1.22521425e-02j]\n",
      " [0.12499059+1.53394229e-03j]\n",
      " [0.125     -3.06161700e-17j]\n",
      " [0.08838835+8.83883476e-02j]\n",
      " [0.12439809+1.22521425e-02j]\n",
      " [0.12499059+1.53394229e-03j]\n",
      " [0.125     -3.06161700e-17j]\n",
      " [0.08838835+8.83883476e-02j]\n",
      " [0.12439809+1.22521425e-02j]\n",
      " [0.12499059+1.53394229e-03j]\n",
      " [0.125     -3.06161700e-17j]\n",
      " [0.08838835+8.83883476e-02j]\n",
      " [0.12439809+1.22521425e-02j]\n",
      " [0.12499059+1.53394229e-03j]\n",
      " [0.125     -3.06161700e-17j]\n",
      " [0.08838835+8.83883476e-02j]\n",
      " [0.12439809+1.22521425e-02j]\n",
      " [0.12499059+1.53394229e-03j]\n",
      " [0.125     -3.06161700e-17j]\n",
      " [0.08838835+8.83883476e-02j]\n",
      " [0.12439809+1.22521425e-02j]\n",
      " [0.12499059+1.53394229e-03j]\n",
      " [0.125     -3.06161700e-17j]\n",
      " [0.08838835+8.83883476e-02j]\n",
      " [0.12439809+1.22521425e-02j]\n",
      " [0.12499059+1.53394229e-03j]\n",
      " [0.125     -3.06161700e-17j]\n",
      " [0.08838835+8.83883476e-02j]\n",
      " [0.12439809+1.22521425e-02j]\n",
      " [0.12499059+1.53394229e-03j]]\n"
     ]
    }
   ],
   "source": [
    "input = QuantumRegister(bits=[0,0,0,0,1,1])\n",
    "input = one*input\n",
    "input = two*input\n",
    "print(input)"
   ]
  },
  {
   "cell_type": "code",
   "execution_count": 13,
   "metadata": {},
   "outputs": [],
   "source": [
    "# xaxis = [i for i in range(2**n)]\n",
    "# hist = [0 for i in range(2**n)]\n",
    "\n",
    "# for i in range(100000):\n",
    "#     a = QuantumRegister(bits=[0,0])\n",
    "#     a.bits = np.matmul(qft, a.bits)\n",
    "#     # mag = 1/np.sqrt(2**n)\n",
    "#     # a.bits = [[mag],[mag],[mag],[mag]]\n",
    "#     hist[a.measure()] += 1\n",
    "# plt.scatter(xaxis, np.divide(hist, 100000))"
   ]
  },
  {
   "cell_type": "markdown",
   "metadata": {},
   "source": [
    "\\begin{equation}\n",
    "f(x_1, x_2) = A_1x_1 + A_2x_2\n",
    "\\end{equation}\n",
    "\n",
    "\\begin{equation}\n",
    "U_f: \\ket{\\vec{x_1}}\\ket{\\vec{x_2}}\\ket{0} \\rightarrow \\ket{\\vec{x_1}}\\ket{\\vec{x_2}}\\ket{\\vec{f(x_1, x_2)}}\n",
    "\\end{equation}\n",
    "\n",
    "\\begin{equation}\n",
    "(U_f)_{ij} = \\bra{\\vec{i}}\n",
    "\\end{equation}"
   ]
  },
  {
   "cell_type": "code",
   "execution_count": null,
   "metadata": {},
   "outputs": [],
   "source": []
  },
  {
   "cell_type": "markdown",
   "metadata": {},
   "source": []
  }
 ],
 "metadata": {
  "kernelspec": {
   "display_name": "Python 3",
   "language": "python",
   "name": "python3"
  },
  "language_info": {
   "codemirror_mode": {
    "name": "ipython",
    "version": 3
   },
   "file_extension": ".py",
   "mimetype": "text/x-python",
   "name": "python",
   "nbconvert_exporter": "python",
   "pygments_lexer": "ipython3",
   "version": "3.11.5"
  }
 },
 "nbformat": 4,
 "nbformat_minor": 2
}
