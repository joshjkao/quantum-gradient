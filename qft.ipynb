{
 "cells": [
  {
   "cell_type": "markdown",
   "metadata": {},
   "source": [
    "# Implementation of the Quantum Gradient Algorithm\n",
    "\n",
    "Given a d-dimensional function f:\n",
    "\\begin{equation}\n",
    "f(\\vec{x}) = y\n",
    "\\end{equation}\n",
    "The Quantum Gradient Algorithm aims to estimate the gradient of this function at the origin. The problem statement of this problem includes oracular access to an operation $U_f$, defined as such:\n",
    "\\begin{equation}\n",
    "U_f: \\ket{\\vec{x_1}}\\ket{\\vec{x_2}}\\ket{0} \\rightarrow \\ket{\\vec{x_1}}\\ket{\\vec{x_2}}\\ket{\\vec{f(x_1, x_2)}}\n",
    "\\end{equation}\n",
    "Put in words, this function takes as input d registers of q qubits plus an output register, and applies the modular addition of the function evaluation of the input registers onto the output register."
   ]
  },
  {
   "cell_type": "markdown",
   "metadata": {},
   "source": [
    "## Defining the Oracle Matrix\n",
    "\n",
    "To test the algorithm with a simple function, define f as:\n",
    "\\begin{equation}\n",
    "f(x_1, x_2) = x_1 + x_2\n",
    "\\end{equation}\n",
    "This function is linear and two-dimensional, and two registers of 4 qubits will be used as input."
   ]
  },
  {
   "cell_type": "code",
   "execution_count": 115,
   "metadata": {},
   "outputs": [],
   "source": [
    "import numpy as np\n",
    "from quantumreg import QuantumRegister, QuantumGate\n",
    "from util import binaryArray2Int, int2BinaryArray\n",
    "import matplotlib.pyplot as plt\n",
    "\n",
    "q = 2\n",
    "\n",
    "# The function f is defined as such\n",
    "def f(x1, x2):\n",
    "    return 2*x1 + x2\n",
    "\n",
    "# Another function is defined to perform the bitwise action of applying the oracle to a set of input and output registers.\n",
    "def applyMatrix(vec):\n",
    "    x1 = binaryArray2Int(vec[0:0+q])\n",
    "    x2 = binaryArray2Int(vec[q:2*q])\n",
    "    y = binaryArray2Int(vec[2*q:3*q])\n",
    "    new_y = (y + f(x1, x2)) % (2**q)\n",
    "    output_binary = int2BinaryArray(new_y, q)\n",
    "    \n",
    "    for i, b in enumerate(output_binary):\n",
    "        vec[2*q+i] = b\n",
    "        \n",
    "    return vec"
   ]
  },
  {
   "cell_type": "markdown",
   "metadata": {},
   "source": [
    "In order to apply $U_f$ in this implementation, its matrix representation is needed. Just as with any operator on a quantum system, its matrix elements can be defined as follows:\n",
    "\\begin{equation}\n",
    "(U_f)_{ij} = \\bra{i}U_f\\ket{j}\n",
    "\\end{equation}\n",
    "The following routine passes the bit representation of every basis state and applies the behavior of the oracle to it. The resulting bit representation is then converted to the state vector representation. The inner product of this state vector with every other state vector is then found to define the row of matrix elements."
   ]
  },
  {
   "cell_type": "code",
   "execution_count": 116,
   "metadata": {},
   "outputs": [],
   "source": [
    "Uf_mat = [[0 for j in range(2**(3*q))] for k in range(2**(3*q))]\n",
    "\n",
    "for j in range(2**(3*q)):\n",
    "    for k in range(2**(3*q)):\n",
    "        leftbits = int2BinaryArray(j, 3*q)\n",
    "        rightbits = int2BinaryArray(k, 3*q)\n",
    "        Ufrightbits = applyMatrix(rightbits)\n",
    "        bra = QuantumRegister(bits=leftbits).bits.transpose()\n",
    "        ket = QuantumRegister(bits=Ufrightbits).bits\n",
    "        Ufjk = np.dot(bra, ket)[0][0]\n",
    "        Uf_mat[j][k] = Ufjk"
   ]
  },
  {
   "cell_type": "markdown",
   "metadata": {},
   "source": [
    "## Defining Other Necessary Operations\n",
    "\n",
    "The rest of this algorithm involves the use of hadamard gates and the quantum fourier transform. Both of these operations have known matrix elements that can be \"hard-coded.\" These operations can be made to act only on certain bits by taking the tensor product of their matrix representations with the identity matrix."
   ]
  },
  {
   "cell_type": "code",
   "execution_count": 117,
   "metadata": {},
   "outputs": [],
   "source": [
    "# d input registers of q qubits each\n",
    "d = 2 \n",
    "q = 2 \n",
    "\n",
    "hadamard = QuantumGate(np.divide(np.array([[1,1],[1,-1]]), np.sqrt(2)))\n",
    "\n",
    "identity = QuantumGate(np.array([[1,0],[0,1]]))\n",
    "\n",
    "qft = QuantumGate([[0 for j in range(2**q)] for k in range(2**q)])\n",
    "def w_n(n: int):\n",
    "    return np.exp(2*np.pi*1.j / (2**n))\n",
    "for j in range(2**q):\n",
    "    for k in range(2**q):\n",
    "        qft[j][k] = 1/np.sqrt(2**q) * w_n(j*k)\n",
    "        \n",
    "qft_dag = QuantumGate(np.array(qft.mat).conj().transpose())"
   ]
  },
  {
   "cell_type": "code",
   "execution_count": 118,
   "metadata": {},
   "outputs": [],
   "source": [
    "# step one: apply hadamard to input registers\n",
    "one = (hadamard**(d*q)) * (identity**q)\n",
    "\n",
    "# step two: apply qft to output registers\n",
    "two = (identity**(d*q)) * (qft)\n",
    "\n",
    "# step three: apply the oracle\n",
    "Uf = QuantumGate(Uf_mat)\n",
    "\n",
    "# step four: apply inverse qft to input registers\n",
    "four = ((qft_dag**2) * (identity**q))"
   ]
  },
  {
   "cell_type": "code",
   "execution_count": 119,
   "metadata": {},
   "outputs": [
    {
     "name": "stdout",
     "output_type": "stream",
     "text": [
      "[[ 0.46277703+1.02174432e-01j]\n",
      " [ 0.46277703+1.02174432e-01j]\n",
      " [ 0.46277703+1.02174432e-01j]\n",
      " [ 0.46277703+1.02174432e-01j]\n",
      " [ 0.13136883-2.07182635e-01j]\n",
      " [ 0.11945889-1.51698148e-01j]\n",
      " [ 0.13136883-2.07182635e-01j]\n",
      " [ 0.11945889-1.51698148e-01j]\n",
      " [ 0.39779412-1.08336655e-01j]\n",
      " [ 0.35328869-8.51535818e-02j]\n",
      " [ 0.39779412-1.08336655e-01j]\n",
      " [ 0.35328869-8.51535818e-02j]\n",
      " [ 0.46386444+1.24645654e-16j]\n",
      " [ 0.43454432+1.11357028e-16j]\n",
      " [ 0.46386444+1.25532597e-16j]\n",
      " [ 0.43454432+1.07859680e-16j]\n",
      " [ 0.12541386-1.79440391e-01j]\n",
      " [ 0.12541386-1.79440391e-01j]\n",
      " [ 0.12541386-1.79440391e-01j]\n",
      " [ 0.12541386-1.79440391e-01j]\n",
      " [-0.05734367-6.68596119e-02j]\n",
      " [-0.05972049-6.19882431e-02j]\n",
      " [-0.07305188-1.18520818e-01j]\n",
      " [-0.02752688-9.36096959e-02j]\n",
      " [ 0.00823275-1.76372129e-01j]\n",
      " [ 0.01856271-1.63395530e-01j]\n",
      " [ 0.03993759-2.01469186e-01j]\n",
      " [ 0.03366057-1.68261562e-01j]\n",
      " [ 0.07070967-1.95408717e-01j]\n",
      " [ 0.07400867-1.84817117e-01j]\n",
      " [ 0.09329118-2.00524352e-01j]\n",
      " [ 0.07962595-1.86089660e-01j]\n",
      " [ 0.3755414 -9.67451184e-02j]\n",
      " [ 0.3755414 -9.67451184e-02j]\n",
      " [ 0.3755414 -9.67451184e-02j]\n",
      " [ 0.3755414 -9.67451184e-02j]\n",
      " [ 0.00601246-1.79906260e-01j]\n",
      " [ 0.01117526-1.56970108e-01j]\n",
      " [ 0.03233684-2.19742400e-01j]\n",
      " [ 0.05086907-1.52879640e-01j]\n",
      " [ 0.23270578-2.30032655e-01j]\n",
      " [ 0.22038158-1.96689852e-01j]\n",
      " [ 0.26768045-2.22595168e-01j]\n",
      " [ 0.23221113-1.89151916e-01j]\n",
      " [ 0.3304023 -1.77958049e-01j]\n",
      " [ 0.31509823-1.62411473e-01j]\n",
      " [ 0.34662276-1.65464125e-01j]\n",
      " [ 0.31913316-1.59303538e-01j]\n",
      " [ 0.44920438+1.26163537e-16j]\n",
      " [ 0.44920438+1.08104422e-16j]\n",
      " [ 0.44920438+1.29002044e-16j]\n",
      " [ 0.44920438+1.29110043e-16j]\n",
      " [ 0.06705442-2.11835263e-01j]\n",
      " [ 0.06983388-1.71233191e-01j]\n",
      " [ 0.0914484 -2.25372332e-01j]\n",
      " [ 0.08929876-1.58399060e-01j]\n",
      " [ 0.33798349-1.88207557e-01j]\n",
      " [ 0.3075391 -1.54557998e-01j]\n",
      " [ 0.35409949-1.74912859e-01j]\n",
      " [ 0.31163437-1.47458772e-01j]\n",
      " [ 0.42681519-1.00216479e-01j]\n",
      " [ 0.40156828-9.01484631e-02j]\n",
      " [ 0.43184804-8.93638662e-02j]\n",
      " [ 0.40282023-8.74488134e-02j]]\n"
     ]
    }
   ],
   "source": [
    "input = QuantumRegister(bits=[0,0,0,0,1,1])\n",
    "\n",
    "input = one*input\n",
    "input = two*input\n",
    "input = Uf*input\n",
    "input = four*input\n",
    "print(input)"
   ]
  },
  {
   "cell_type": "code",
   "execution_count": 120,
   "metadata": {},
   "outputs": [],
   "source": [
    "hist = [0 for i in range(2**(3*q))]\n",
    "xaxis = [i for i in range(2**(3*q))]\n",
    "\n",
    "for i in range(100):\n",
    "    result = input.measure()\n",
    "    hist[result] += 1"
   ]
  },
  {
   "cell_type": "code",
   "execution_count": 121,
   "metadata": {},
   "outputs": [
    {
     "data": {
      "text/plain": [
       "<matplotlib.collections.PathCollection at 0x146195b10>"
      ]
     },
     "execution_count": 121,
     "metadata": {},
     "output_type": "execute_result"
    },
    {
     "data": {
      "image/png": "[encoded data removed]",
      "text/plain": [
       "<Figure size 640x480 with 1 Axes>"
      ]
     },
     "metadata": {},
     "output_type": "display_data"
    }
   ],
   "source": [
    "plt.scatter(xaxis, hist)"
   ]
  },
  {
   "cell_type": "code",
   "execution_count": 122,
   "metadata": {},
   "outputs": [
    {
     "data": {
      "text/plain": [
       "[17,\n",
       " 20,\n",
       " 27,\n",
       " 27,\n",
       " 3,\n",
       " 5,\n",
       " 1,\n",
       " 0,\n",
       " 0,\n",
       " 0,\n",
       " 0,\n",
       " 0,\n",
       " 0,\n",
       " 0,\n",
       " 0,\n",
       " 0,\n",
       " 0,\n",
       " 0,\n",
       " 0,\n",
       " 0,\n",
       " 0,\n",
       " 0,\n",
       " 0,\n",
       " 0,\n",
       " 0,\n",
       " 0,\n",
       " 0,\n",
       " 0,\n",
       " 0,\n",
       " 0,\n",
       " 0,\n",
       " 0,\n",
       " 0,\n",
       " 0,\n",
       " 0,\n",
       " 0,\n",
       " 0,\n",
       " 0,\n",
       " 0,\n",
       " 0,\n",
       " 0,\n",
       " 0,\n",
       " 0,\n",
       " 0,\n",
       " 0,\n",
       " 0,\n",
       " 0,\n",
       " 0,\n",
       " 0,\n",
       " 0,\n",
       " 0,\n",
       " 0,\n",
       " 0,\n",
       " 0,\n",
       " 0,\n",
       " 0,\n",
       " 0,\n",
       " 0,\n",
       " 0,\n",
       " 0,\n",
       " 0,\n",
       " 0,\n",
       " 0,\n",
       " 0]"
      ]
     },
     "execution_count": 122,
     "metadata": {},
     "output_type": "execute_result"
    }
   ],
   "source": [
    "hist"
   ]
  },
  {
   "cell_type": "code",
   "execution_count": null,
   "metadata": {},
   "outputs": [],
   "source": []
  }
 ],
 "metadata": {
  "kernelspec": {
   "display_name": "Python 3",
   "language": "python",
   "name": "python3"
  },
  "language_info": {
   "codemirror_mode": {
    "name": "ipython",
    "version": 3
   },
   "file_extension": ".py",
   "mimetype": "text/x-python",
   "name": "python",
   "nbconvert_exporter": "python",
   "pygments_lexer": "ipython3",
   "version": "3.11.5"
  }
 },
 "nbformat": 4,
 "nbformat_minor": 2
}
